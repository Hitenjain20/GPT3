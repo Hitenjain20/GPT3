{
 "cells": [
  {
   "cell_type": "code",
   "execution_count": 13,
   "id": "dfba7161",
   "metadata": {},
   "outputs": [],
   "source": [
    "import openai\n",
    "import os"
   ]
  },
  {
   "cell_type": "code",
   "execution_count": 14,
   "id": "a6ffa17f",
   "metadata": {},
   "outputs": [],
   "source": [
    "openai_key = os.environ.get(\"Openai_APi_key\")"
   ]
  },
  {
   "cell_type": "code",
   "execution_count": 33,
   "id": "9984cc90",
   "metadata": {},
   "outputs": [],
   "source": [
    "#playground\n",
    "\n",
    "myPrompt = \"\"\"\n",
    "History of Afganisthan is dark \n",
    "\"\"\""
   ]
  },
  {
   "cell_type": "code",
   "execution_count": 34,
   "id": "a1f22d2d",
   "metadata": {},
   "outputs": [],
   "source": [
    "#tuning the parameters\n",
    "\n",
    "myTokens = 64\n",
    "myEngine = \"davinci\"\n",
    "myTemp = 0\n",
    "myTop_p = 1\n",
    "myN = 1\n",
    "myStream = None\n",
    "myLogProbs = None \n",
    "myStop = [\"\\n\\n\"]"
   ]
  },
  {
   "cell_type": "code",
   "execution_count": 35,
   "id": "9a6423ce",
   "metadata": {},
   "outputs": [
    {
     "name": "stdout",
     "output_type": "stream",
     "text": [
      "\n",
      "History of Afganisthan is dark \n",
      "\n",
      "Afganisthan is a landlocked country in Central Asia. It is bordered by Pakistan in the south and east; Iran in the west; Turkmenistan, Uzbekistan, and Tajikistan in the north; and China in the far northeast. The name \"Afghanistan\" is derived from the\n"
     ]
    }
   ],
   "source": [
    "response = openai.Completion.create(\n",
    "    engine = myEngine,\n",
    "    prompt = myPrompt, \n",
    "    temperature = myTemp,\n",
    "    max_tokens = myTokens,\n",
    "    top_p = myTop_p,\n",
    "    n = myN,\n",
    "    stream = myStream,\n",
    "    logprobs = myLogProbs,\n",
    "    stop = myStop\n",
    ")\n",
    "print(f\"{myPrompt}{response.choices[0].text}\")"
   ]
  },
  {
   "cell_type": "code",
   "execution_count": null,
   "id": "42c62cfb",
   "metadata": {},
   "outputs": [],
   "source": []
  }
 ],
 "metadata": {
  "kernelspec": {
   "display_name": "Python 3",
   "language": "python",
   "name": "python3"
  },
  "language_info": {
   "codemirror_mode": {
    "name": "ipython",
    "version": 3
   },
   "file_extension": ".py",
   "mimetype": "text/x-python",
   "name": "python",
   "nbconvert_exporter": "python",
   "pygments_lexer": "ipython3",
   "version": "3.8.8"
  }
 },
 "nbformat": 4,
 "nbformat_minor": 5
}
