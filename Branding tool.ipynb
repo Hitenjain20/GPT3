{
 "cells": [
  {
   "cell_type": "code",
   "execution_count": 35,
   "id": "af7873c1",
   "metadata": {},
   "outputs": [],
   "source": [
    "import os\n",
    "import openai\n",
    "import ipywidgets as widgets"
   ]
  },
  {
   "cell_type": "code",
   "execution_count": 36,
   "id": "ed925338",
   "metadata": {},
   "outputs": [],
   "source": [
    "openai_key = os.environ.get(\"Openai_APi_key\")"
   ]
  },
  {
   "cell_type": "code",
   "execution_count": 37,
   "id": "22c3d488",
   "metadata": {},
   "outputs": [
    {
     "data": {
      "application/vnd.jupyter.widget-view+json": {
       "model_id": "4c8e82cf592a457188c695baf21f5761",
       "version_major": 2,
       "version_minor": 0
      },
      "text/plain": [
       "Text(value='Tata motors', description='Name')"
      ]
     },
     "metadata": {},
     "output_type": "display_data"
    },
    {
     "data": {
      "application/vnd.jupyter.widget-view+json": {
       "model_id": "0bfa52377bad4448bb2e57380cbbb8ae",
       "version_major": 2,
       "version_minor": 0
      },
      "text/plain": [
       "Text(value='Mumbai, India', description='Location')"
      ]
     },
     "metadata": {},
     "output_type": "display_data"
    },
    {
     "data": {
      "application/vnd.jupyter.widget-view+json": {
       "model_id": "02c305c0defd435bb25c7b5bb43f8c94",
       "version_major": 2,
       "version_minor": 0
      },
      "text/plain": [
       "Text(value='Automative manufacturer', description='Industries')"
      ]
     },
     "metadata": {},
     "output_type": "display_data"
    }
   ],
   "source": [
    "company_name = widgets.Text(value='Tata motors', disabled=False,description='Name')\n",
    "headquarters_location = widgets.Text(value='Mumbai, India', disabled=False,description='Location')\n",
    "industries = widgets.Text(value='Automative manufacturer', disabled=False,description='Industries')\n",
    "display(company_name,headquarters_location,industries)"
   ]
  },
  {
   "cell_type": "code",
   "execution_count": 38,
   "id": "138db68b",
   "metadata": {},
   "outputs": [],
   "source": [
    "myEntry = f\"\"\"full name of company:{company_name.value}\\nheadquarters location:{headquarters_location.value}\\nindustries:{industries.value}\"\"\""
   ]
  },
  {
   "cell_type": "code",
   "execution_count": 39,
   "id": "0dbe254d",
   "metadata": {},
   "outputs": [],
   "source": [
    "#Custom text input\n",
    "myPrompt = f\"\"\"Generates everything that a new business needs to get started connecting with their audience. \n",
    "\n",
    "full name of company:Tata Group Inc.\n",
    "headquarters location:Bombay\n",
    "industries: Tata Consultancy Services, Tata Motors, Tata Steel, Tata Chemicals, Tata Consumer Products, Titan, Tata Capital, Tata Power, Tata Advanced Systems, Indian Hotels and Tata Communications.\n",
    "geographical focus:global\n",
    "philosophy:excellence, integrity, pioneering, responsibility and lastly unity.\n",
    "logo concept: T alphabet in a oval . Blue. No text.\n",
    "company colors: blue and white\n",
    "slogan:Integrity, Responsibility, Excellence, Pioneering, and Unity.\n",
    "3 product ideas:cars, steel, insurnace\n",
    "1 free tweet: '''We’re on a mission to light up the lives of people across India. Ours is one of the largest solar microgrid projects in the world to provide rural communities with uninterrupted clean energy. It’s also a step towards more microgrids in the near future.'''\n",
    "3 geographic targets:South Asia, Europe, United states of America, Canada\n",
    "\n",
    "{myEntry}\n",
    "\"\"\""
   ]
  },
  {
   "cell_type": "code",
   "execution_count": 40,
   "id": "52c4e946",
   "metadata": {},
   "outputs": [],
   "source": [
    "#parameters\n",
    "myTokens = 350\n",
    "myEngine = \"davinci\"\n",
    "myTemp = 0.85\n",
    "myTop_p = 1\n",
    "myN=1\n",
    "myStream = None\n",
    "myLogProbs = None\n",
    "myStop = \"\\n\\n\""
   ]
  },
  {
   "cell_type": "code",
   "execution_count": 41,
   "id": "311f3d4c",
   "metadata": {},
   "outputs": [
    {
     "name": "stdout",
     "output_type": "stream",
     "text": [
      "full name of company:Tata motors\n",
      "headquarters location:Mumbai, India\n",
      "industries:Automative manufacturer\n",
      "geographical focus:Asia, Middle East, Africa\n",
      "philosophy:Quality matters.\n",
      "logo concept: red and yellow diamond with a car in the middle.\n",
      "company colors: red and yellow.\n",
      "slogan: Style and design with passion.\n",
      "3 product ideas:legend, indigo,\n",
      "1 free tweet: '''Style and design with passion. That’s the DNA of the Tata Motors’ ‘Legend’ range of SUV and CUV. Be it the all-new ‘Indigo’ compact sedan or the ‘Hexa’ – the country’s first True 7 seater SUV – we’ve brought together a unique blend of state-of-the-art technology and exceptional design.'''\n",
      "3 geographic targets:Asia, Africa, European union\n"
     ]
    }
   ],
   "source": [
    "response = openai.Completion.create(\n",
    "  engine=myEngine,\n",
    "  prompt=myPrompt,\n",
    "  max_tokens=myTokens,\n",
    "  temperature=myTemp,\n",
    "  top_p=myTop_p,\n",
    "  n=myN,\n",
    "  stream = myStream,\n",
    "  logprobs=myLogProbs,\n",
    "  stop = myStop\n",
    ")\n",
    "\n",
    "print(f\"{myEntry}\\n{response.choices[0].text}\")"
   ]
  },
  {
   "cell_type": "code",
   "execution_count": null,
   "id": "00c27cf6",
   "metadata": {},
   "outputs": [],
   "source": []
  }
 ],
 "metadata": {
  "kernelspec": {
   "display_name": "Python 3",
   "language": "python",
   "name": "python3"
  },
  "language_info": {
   "codemirror_mode": {
    "name": "ipython",
    "version": 3
   },
   "file_extension": ".py",
   "mimetype": "text/x-python",
   "name": "python",
   "nbconvert_exporter": "python",
   "pygments_lexer": "ipython3",
   "version": "3.8.8"
  }
 },
 "nbformat": 4,
 "nbformat_minor": 5
}
